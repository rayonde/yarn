{
 "cells": [
  {
   "cell_type": "code",
   "execution_count": 1,
   "metadata": {
    "collapsed": false,
    "jupyter": {
     "outputs_hidden": false
    }
   },
   "outputs": [
    {
     "name": "stdout",
     "output_type": "stream",
     "text": [
      "Populating the interactive namespace from numpy and matplotlib\n"
     ]
    },
    {
     "name": "stderr",
     "output_type": "stream",
     "text": [
      "WARNING:tensorflow:From c:\\python38\\lib\\site-packages\\tensorflow\\python\\compat\\v2_compat.py:96: disable_resource_variables (from tensorflow.python.ops.variable_scope) is deprecated and will be removed in a future version.\n",
      "Instructions for updating:\n",
      "non-resource variables are not supported in the long term\n"
     ]
    }
   ],
   "source": [
    "%pylab inline\n",
    "import numpy as np\n",
    "import scipy.linalg as la\n",
    "from scipy.special import factorial\n",
    "import os,sys,inspect\n",
    "import h5py\n",
    "\n",
    "data_path = './output_pulses/'\n",
    "initial_pulse = './transmon_cat_initial_pulse.h5'\n",
    "\n",
    "from quantum_optimal_control.helper_functions.grape_functions import *\n",
    "from quantum_optimal_control.main_grape.grape import Grape"
   ]
  },
  {
   "cell_type": "code",
   "execution_count": 2,
   "metadata": {
    "collapsed": false,
    "jupyter": {
     "outputs_hidden": false
    }
   },
   "outputs": [
    {
     "name": "stdout",
     "output_type": "stream",
     "text": [
      "[1.91392993e-01 0.00000000e+00 5.41341133e-01 0.00000000e+00\n",
      " 6.25086898e-01 0.00000000e+00 4.56498926e-01 0.00000000e+00\n",
      " 2.44008940e-01 0.00000000e+00 1.02883202e-01 0.00000000e+00\n",
      " 3.58193335e-02 0.00000000e+00 1.06204226e-02 0.00000000e+00\n",
      " 2.74218132e-03 0.00000000e+00 6.27040288e-04 0.00000000e+00\n",
      " 1.28665952e-04 0.00000000e+00]\n",
      "cat_d inner product: 1.0003354620375355\n",
      "g0 inner product: 1.0\n"
     ]
    }
   ],
   "source": [
    "# Choose optimizing State transfer or Unitary gate\n",
    "state_transfer = True\n",
    "\n",
    "#Defining time scales\n",
    "total_time = 40.0\n",
    "steps = 8000\n",
    "\n",
    "#Defining H0\n",
    "qubit_state_num = 7\n",
    "\n",
    "alpha = 0.225\n",
    "freq_ge = 3.5#GHz\n",
    "ens = np.array([ 2*np.pi*ii*(freq_ge - 0.5*(ii-1)*alpha) for ii in np.arange(qubit_state_num)])\n",
    "Q_x   = np.diag(np.sqrt(np.arange(1,qubit_state_num)),1)+np.diag(np.sqrt(np.arange(1,qubit_state_num)),-1)\n",
    "Q_y   = (0+1j) *(np.diag(np.sqrt(np.arange(1,qubit_state_num)),1)-np.diag(np.sqrt(np.arange(1,qubit_state_num)),-1))\n",
    "Q_z   = np.diag(np.arange(0,qubit_state_num))\n",
    "I_q = np.identity(qubit_state_num)\n",
    "H_q = np.diag(ens)\n",
    "\n",
    "mode_state_num = 22\n",
    "qm_g =2*np.pi*0.1\n",
    "mode_freq = 3.9 #GHz\n",
    "mode_ens = np.array([ 2*np.pi*ii*(mode_freq) for ii in np.arange(mode_state_num)])\n",
    "M_x = np.diag(np.sqrt(np.arange(1,mode_state_num)),1)+np.diag(np.sqrt(np.arange(1,mode_state_num)),-1)\n",
    "M_y = (0+1j) *(np.diag(np.sqrt(np.arange(1,mode_state_num)),1)-np.diag(np.sqrt(np.arange(1,mode_state_num)),-1))\n",
    "M_z   = np.diag(np.arange(0,mode_state_num))\n",
    "H_m = np.diag(mode_ens)\n",
    "I_m = np.identity(mode_state_num)\n",
    "\n",
    "H0 = np.kron(H_q,I_m) + np.kron(I_q,H_m) +\\\n",
    "        + qm_g*np.kron(Q_x,M_x) \n",
    "    \n",
    "#Defining control Hs\n",
    "\n",
    "XI = np.kron(Q_x,I_m)\n",
    "YI = np.kron(Q_y,I_m)\n",
    "ZI = np.kron(Q_z,I_m)\n",
    "IX = np.kron(I_q,M_x)\n",
    "IY = np.kron(I_q,M_y)\n",
    "IZ = np.kron(I_q,M_z)\n",
    "\n",
    "Hops = [XI,ZI]\n",
    "ops_max_amp = [0.3*2*np.pi,0.3*2*np.pi]\n",
    "Hnames =['xi','zi']\n",
    "\n",
    "#Defining the coherent state\n",
    "\n",
    "def coherent_state(beta):\n",
    "    coeffs = []\n",
    "    pre_factor = np.exp((-(np.abs(beta))**2)/2)\n",
    "    for ii in range(mode_state_num):\n",
    "        coeff = pre_factor * beta**ii /(np.sqrt(factorial(ii)))\n",
    "        coeffs.append(coeff)\n",
    "    return coeffs\n",
    "\n",
    "\n",
    "beta = 2.0\n",
    "coeffs_1 = coherent_state(beta)\n",
    "coeffs_2 = coherent_state(- beta)\n",
    "coeffs_3 = coherent_state((0+1j)*beta)\n",
    "cat_coeffs = (1/np.sqrt(2)) * np.add(coeffs_1,coeffs_2)\n",
    "\n",
    "cat= cat_coeffs\n",
    "\n",
    "print( cat)\n",
    "cat=np.append(cat,np.zeros((qubit_state_num-1)*mode_state_num))\n",
    "\n",
    "a=0\n",
    "for k in cat:\n",
    "    a = a+ np.abs(k)**2\n",
    "\n",
    "#Defining dressed info\n",
    "\n",
    "is_dressed = False\n",
    "\n",
    "w_c, v_c, dressed_id = get_dressed_info(H0)\n",
    "\n",
    "#dressed_info = {'dressed_id':dressed_id, 'eigenvectors':v_c,\\\n",
    "#               'eigenvalues':w_c, 'is_dressed':is_dressed}\n",
    "\n",
    "dressed_info = None\n",
    "\n",
    "#Defining states to include in the drawing of occupation\n",
    "states_draw_list = range(mode_state_num)\n",
    "states_draw_names = []\n",
    "for ii in range (mode_state_num):\n",
    "    states_draw_names.append('0_'+str(ii))\n",
    "    \n",
    "    \n",
    "#Defining target\n",
    "\n",
    "from quantum_optimal_control.helper_functions.grape_functions import get_state_index\n",
    "g0 = v_c[:,get_state_index(0,dressed_id)]\n",
    "\n",
    "if is_dressed:\n",
    "    cat_d = np.zeros(mode_state_num*qubit_state_num)\n",
    "\n",
    "    for ii in range(len(cat)):\n",
    "        cat_d = cat_d + cat[ii] * v_c[:,get_state_index(ii,dressed_id)]\n",
    "else:\n",
    "    cat_d = cat\n",
    "print( \"cat_d inner product: \" + str(np.inner(cat_d,cat_d)))\n",
    "print( \"g0 inner product: \" + str(np.inner(g0,g0)))\n",
    "U = [cat_d]\n",
    "    \n",
    "    \n",
    "#Defining Concerned states (starting states)\n",
    "g = np.zeros(qubit_state_num*mode_state_num,dtype=complex)\n",
    "g[0] = 1\n",
    "\n",
    "psi0=[g]\n",
    "\n",
    "#Defining states to include in the drawing of occupation\n",
    "states_draw_list = range(mode_state_num)\n",
    "states_draw_names = []\n",
    "for ii in range (mode_state_num):\n",
    "    states_draw_names.append('g_'+str(ii))\n",
    "\n",
    "\n",
    "\n",
    "#Defining convergence parameters\n",
    "max_iterations = 500\n",
    "decay = 10000 #max_iterations/2\n",
    "convergence = {'rate':0.01, 'update_step':10, 'max_iterations':max_iterations,\\\n",
    "              'conv_target':1e-4,'learning_rate_decay':decay}\n",
    "\n",
    "\n",
    "\n",
    "# Defining reg coeffs\n",
    "\n",
    "states_forbidden_list = []\n",
    "\n",
    "for ii in range(mode_state_num):\n",
    "    forbid_state = (qubit_state_num-1)*mode_state_num+ii\n",
    "    if not forbid_state in states_forbidden_list:\n",
    "        states_forbidden_list.append(forbid_state)\n",
    "        \n",
    "for ii in range(mode_state_num):\n",
    "    forbid_state = (qubit_state_num-2)*mode_state_num+ii\n",
    "    if not forbid_state in states_forbidden_list:\n",
    "        states_forbidden_list.append(forbid_state)\n",
    "        \n",
    "for ii in range(mode_state_num):\n",
    "    forbid_state = (qubit_state_num-3)*mode_state_num+ii\n",
    "    if not forbid_state in states_forbidden_list:\n",
    "        states_forbidden_list.append(forbid_state)\n",
    "        \n",
    "for ii in range(mode_state_num):\n",
    "    forbid_state = (qubit_state_num-4)*mode_state_num+ii\n",
    "    if not forbid_state in states_forbidden_list:\n",
    "        states_forbidden_list.append(forbid_state)\n",
    "        \n",
    "# for ii in range(mode_state_num):\n",
    "#     forbid_state = (qubit_state_num-5)*mode_state_num+ii\n",
    "#     if not forbid_state in states_forbidden_list:\n",
    "#         states_forbidden_list.append(forbid_state)\n",
    "        \n",
    "for ii in range(qubit_state_num):\n",
    "    forbid_state = ii*mode_state_num + (mode_state_num-1)\n",
    "    if not forbid_state in states_forbidden_list:\n",
    "        states_forbidden_list.append(forbid_state)\n",
    "        \n",
    "for ii in range(qubit_state_num):\n",
    "    forbid_state = ii*mode_state_num + (mode_state_num-2)\n",
    "    if not forbid_state in states_forbidden_list:\n",
    "        states_forbidden_list.append(forbid_state)\n",
    "        \n",
    "#reg_coeffs = {'envelope' : 0.0, 'dwdt':0.00001,'d2wdt2':0.00001*0.0001, 'forbidden':100,\n",
    "#             'states_forbidden_list': states_forbidden_list,'forbid_dressed':False,\n",
    "#             'bandpass':1.0,'band':[0.1,10]}\n",
    "\n",
    "reg_coeffs = {'dwdt':0.00001, 'forbidden_coeff_list':[10] * len(states_forbidden_list),\n",
    "             'states_forbidden_list': states_forbidden_list,'forbid_dressed':False}"
   ]
  },
  {
   "cell_type": "code",
   "execution_count": 3,
   "metadata": {
    "collapsed": false,
    "jupyter": {
     "outputs_hidden": false
    }
   },
   "outputs": [],
   "source": [
    "##If available set initial guess pulse\n",
    "with h5py.File(initial_pulse,'r') as hf:\n",
    "    last_u0 = np.array(hf['uks'])[-1]\n",
    "u0 = last_u0\n",
    "    \n",
    "#u0 = None"
   ]
  },
  {
   "cell_type": "code",
   "execution_count": 4,
   "metadata": {
    "collapsed": false,
    "jupyter": {
     "outputs_hidden": false
    }
   },
   "outputs": [
    {
     "name": "stdout",
     "output_type": "stream",
     "text": [
      "Using 20 Taylor terms and 0 Scaling & Squaring terms\n"
     ]
    },
    {
     "ename": "ValueError",
     "evalue": "cannot reshape array of size 16000 into shape (2,400)",
     "output_type": "error",
     "traceback": [
      "\u001b[1;31m---------------------------------------------------------------------------\u001b[0m",
      "\u001b[1;31mValueError\u001b[0m                                Traceback (most recent call last)",
      "\u001b[1;32m<ipython-input-4-6d6d07aff77b>\u001b[0m in \u001b[0;36m<module>\u001b[1;34m\u001b[0m\n\u001b[1;32m----> 1\u001b[1;33m uks,U_final = Grape(H0,Hops,Hnames,U,total_time,steps,psi0,convergence=convergence, draw = [states_draw_list,states_draw_names],  \n\u001b[0m\u001b[0;32m      2\u001b[0m                     \u001b[0mstate_transfer\u001b[0m\u001b[1;33m=\u001b[0m\u001b[0mstate_transfer\u001b[0m\u001b[1;33m,\u001b[0m \u001b[0muse_gpu\u001b[0m\u001b[1;33m=\u001b[0m\u001b[1;32mFalse\u001b[0m\u001b[1;33m,\u001b[0m\u001b[0msparse_H\u001b[0m\u001b[1;33m=\u001b[0m\u001b[1;32mFalse\u001b[0m\u001b[1;33m,\u001b[0m\u001b[1;33m\u001b[0m\u001b[1;33m\u001b[0m\u001b[0m\n\u001b[0;32m      3\u001b[0m                     \u001b[0mshow_plots\u001b[0m \u001b[1;33m=\u001b[0m\u001b[1;32mFalse\u001b[0m\u001b[1;33m,\u001b[0m\u001b[1;33m\u001b[0m\u001b[1;33m\u001b[0m\u001b[0m\n\u001b[0;32m      4\u001b[0m        \u001b[0mTaylor_terms\u001b[0m \u001b[1;33m=\u001b[0m \u001b[1;33m[\u001b[0m\u001b[1;36m20\u001b[0m\u001b[1;33m,\u001b[0m\u001b[1;36m0\u001b[0m\u001b[1;33m]\u001b[0m \u001b[1;33m,\u001b[0m \u001b[0mmethod\u001b[0m \u001b[1;33m=\u001b[0m \u001b[1;34m'Adam'\u001b[0m\u001b[1;33m,\u001b[0m\u001b[0minitial_guess\u001b[0m \u001b[1;33m=\u001b[0m \u001b[0mu0\u001b[0m\u001b[1;33m,\u001b[0m\u001b[0mmaxA\u001b[0m \u001b[1;33m=\u001b[0m \u001b[0mops_max_amp\u001b[0m\u001b[1;33m\u001b[0m\u001b[1;33m\u001b[0m\u001b[0m\n\u001b[0;32m      5\u001b[0m                     \u001b[1;33m,\u001b[0m\u001b[0mreg_coeffs\u001b[0m \u001b[1;33m=\u001b[0m \u001b[0mreg_coeffs\u001b[0m\u001b[1;33m,\u001b[0m\u001b[0mdressed_info\u001b[0m\u001b[1;33m=\u001b[0m\u001b[0mdressed_info\u001b[0m\u001b[1;33m,\u001b[0m\u001b[0mfile_name\u001b[0m \u001b[1;33m=\u001b[0m \u001b[1;34m\"cat\"\u001b[0m\u001b[1;33m\u001b[0m\u001b[1;33m\u001b[0m\u001b[0m\n",
      "\u001b[1;32mD:\\GitHub\\yarn\\examplesFromForkedLibraries\\SchusterLabQoc1\\quantum_optimal_control\\main_grape\\grape.py\u001b[0m in \u001b[0;36mGrape\u001b[1;34m(H0, Hops, Hnames, U, total_time, steps, states_concerned_list, convergence, U0, reg_coeffs, dressed_info, maxA, use_gpu, sparse_H, sparse_U, sparse_K, draw, initial_guess, show_plots, unitary_error, method, state_transfer, no_scaling, freq_unit, file_name, save, data_path, Taylor_terms, use_inter_vecs)\u001b[0m\n\u001b[0;32m    102\u001b[0m \u001b[1;33m\u001b[0m\u001b[0m\n\u001b[0;32m    103\u001b[0m     \u001b[1;31m# pass in system parameters\u001b[0m\u001b[1;33m\u001b[0m\u001b[1;33m\u001b[0m\u001b[1;33m\u001b[0m\u001b[0m\n\u001b[1;32m--> 104\u001b[1;33m     \u001b[0msys_para\u001b[0m \u001b[1;33m=\u001b[0m \u001b[0mSystemParameters\u001b[0m\u001b[1;33m(\u001b[0m\u001b[0mH0\u001b[0m\u001b[1;33m,\u001b[0m\u001b[0mHops\u001b[0m\u001b[1;33m,\u001b[0m\u001b[0mHnames\u001b[0m\u001b[1;33m,\u001b[0m\u001b[0mU\u001b[0m\u001b[1;33m,\u001b[0m\u001b[0mU0\u001b[0m\u001b[1;33m,\u001b[0m\u001b[0mtotal_time\u001b[0m\u001b[1;33m,\u001b[0m\u001b[0msteps\u001b[0m\u001b[1;33m,\u001b[0m\u001b[0mstates_concerned_list\u001b[0m\u001b[1;33m,\u001b[0m\u001b[0mdressed_info\u001b[0m\u001b[1;33m,\u001b[0m\u001b[0mmaxAmp\u001b[0m\u001b[1;33m,\u001b[0m \u001b[0mdraw\u001b[0m\u001b[1;33m,\u001b[0m\u001b[0minitial_guess\u001b[0m\u001b[1;33m,\u001b[0m  \u001b[0mshow_plots\u001b[0m\u001b[1;33m,\u001b[0m\u001b[0munitary_error\u001b[0m\u001b[1;33m,\u001b[0m\u001b[0mstate_transfer\u001b[0m\u001b[1;33m,\u001b[0m\u001b[0mno_scaling\u001b[0m\u001b[1;33m,\u001b[0m\u001b[0mreg_coeffs\u001b[0m\u001b[1;33m,\u001b[0m \u001b[0msave\u001b[0m\u001b[1;33m,\u001b[0m \u001b[0mfile_path\u001b[0m\u001b[1;33m,\u001b[0m \u001b[0mTaylor_terms\u001b[0m\u001b[1;33m,\u001b[0m \u001b[0muse_gpu\u001b[0m\u001b[1;33m,\u001b[0m \u001b[0muse_inter_vecs\u001b[0m\u001b[1;33m,\u001b[0m\u001b[0msparse_H\u001b[0m\u001b[1;33m,\u001b[0m\u001b[0msparse_U\u001b[0m\u001b[1;33m,\u001b[0m\u001b[0msparse_K\u001b[0m\u001b[1;33m)\u001b[0m\u001b[1;33m\u001b[0m\u001b[1;33m\u001b[0m\u001b[0m\n\u001b[0m\u001b[0;32m    105\u001b[0m \u001b[1;33m\u001b[0m\u001b[0m\n\u001b[0;32m    106\u001b[0m     \u001b[1;32mif\u001b[0m \u001b[0muse_gpu\u001b[0m\u001b[1;33m:\u001b[0m\u001b[1;33m\u001b[0m\u001b[1;33m\u001b[0m\u001b[0m\n",
      "\u001b[1;32mD:\\GitHub\\yarn\\examplesFromForkedLibraries\\SchusterLabQoc1\\quantum_optimal_control\\core\\system_parameters.py\u001b[0m in \u001b[0;36m__init__\u001b[1;34m(self, H0, Hops, Hnames, U, U0, total_time, steps, states_concerned_list, dressed_info, maxA, draw, initial_guess, show_plots, Unitary_error, state_transfer, no_scaling, reg_coeffs, save, file_path, Taylor_terms, use_gpu, use_inter_vecs, sparse_H, sparse_U, sparse_K)\u001b[0m\n\u001b[0;32m     84\u001b[0m         \u001b[0mself\u001b[0m\u001b[1;33m.\u001b[0m\u001b[0minit_operators\u001b[0m\u001b[1;33m(\u001b[0m\u001b[1;33m)\u001b[0m\u001b[1;33m\u001b[0m\u001b[1;33m\u001b[0m\u001b[0m\n\u001b[0;32m     85\u001b[0m         \u001b[0mself\u001b[0m\u001b[1;33m.\u001b[0m\u001b[0minit_one_minus_gaussian_envelope\u001b[0m\u001b[1;33m(\u001b[0m\u001b[1;33m)\u001b[0m\u001b[1;33m\u001b[0m\u001b[1;33m\u001b[0m\u001b[0m\n\u001b[1;32m---> 86\u001b[1;33m         \u001b[0mself\u001b[0m\u001b[1;33m.\u001b[0m\u001b[0minit_guess\u001b[0m\u001b[1;33m(\u001b[0m\u001b[1;33m)\u001b[0m\u001b[1;33m\u001b[0m\u001b[1;33m\u001b[0m\u001b[0m\n\u001b[0m\u001b[0;32m     87\u001b[0m \u001b[1;33m\u001b[0m\u001b[0m\n\u001b[0;32m     88\u001b[0m     \u001b[1;32mdef\u001b[0m \u001b[0mapprox_expm\u001b[0m\u001b[1;33m(\u001b[0m\u001b[0mself\u001b[0m\u001b[1;33m,\u001b[0m\u001b[0mM\u001b[0m\u001b[1;33m,\u001b[0m\u001b[0mexp_t\u001b[0m\u001b[1;33m,\u001b[0m \u001b[0mscaling_terms\u001b[0m\u001b[1;33m)\u001b[0m\u001b[1;33m:\u001b[0m\u001b[1;33m\u001b[0m\u001b[1;33m\u001b[0m\u001b[0m\n",
      "\u001b[1;32mD:\\GitHub\\yarn\\examplesFromForkedLibraries\\SchusterLabQoc1\\quantum_optimal_control\\core\\system_parameters.py\u001b[0m in \u001b[0;36minit_guess\u001b[1;34m(self)\u001b[0m\n\u001b[0;32m    274\u001b[0m         \u001b[1;32mif\u001b[0m \u001b[0mself\u001b[0m\u001b[1;33m.\u001b[0m\u001b[0mu0\u001b[0m \u001b[1;33m!=\u001b[0m \u001b[1;33m[\u001b[0m\u001b[1;33m]\u001b[0m\u001b[1;33m:\u001b[0m\u001b[1;33m\u001b[0m\u001b[1;33m\u001b[0m\u001b[0m\n\u001b[0;32m    275\u001b[0m \u001b[1;33m\u001b[0m\u001b[0m\n\u001b[1;32m--> 276\u001b[1;33m             \u001b[0mself\u001b[0m\u001b[1;33m.\u001b[0m\u001b[0mops_weight_base\u001b[0m \u001b[1;33m=\u001b[0m \u001b[0mnp\u001b[0m\u001b[1;33m.\u001b[0m\u001b[0mreshape\u001b[0m\u001b[1;33m(\u001b[0m\u001b[0mself\u001b[0m\u001b[1;33m.\u001b[0m\u001b[0mu0_base\u001b[0m\u001b[1;33m,\u001b[0m \u001b[1;33m[\u001b[0m\u001b[0mself\u001b[0m\u001b[1;33m.\u001b[0m\u001b[0mops_len\u001b[0m\u001b[1;33m,\u001b[0m\u001b[0mself\u001b[0m\u001b[1;33m.\u001b[0m\u001b[0msteps\u001b[0m\u001b[1;33m]\u001b[0m\u001b[1;33m)\u001b[0m\u001b[1;33m\u001b[0m\u001b[1;33m\u001b[0m\u001b[0m\n\u001b[0m\u001b[0;32m    277\u001b[0m         \u001b[1;32melse\u001b[0m\u001b[1;33m:\u001b[0m\u001b[1;33m\u001b[0m\u001b[1;33m\u001b[0m\u001b[0m\n\u001b[0;32m    278\u001b[0m             \u001b[0minitial_mean\u001b[0m \u001b[1;33m=\u001b[0m \u001b[1;36m0\u001b[0m\u001b[1;33m\u001b[0m\u001b[1;33m\u001b[0m\u001b[0m\n",
      "\u001b[1;32m<__array_function__ internals>\u001b[0m in \u001b[0;36mreshape\u001b[1;34m(*args, **kwargs)\u001b[0m\n",
      "\u001b[1;32mc:\\python38\\lib\\site-packages\\numpy\\core\\fromnumeric.py\u001b[0m in \u001b[0;36mreshape\u001b[1;34m(a, newshape, order)\u001b[0m\n\u001b[0;32m    299\u001b[0m            [5, 6]])\n\u001b[0;32m    300\u001b[0m     \"\"\"\n\u001b[1;32m--> 301\u001b[1;33m     \u001b[1;32mreturn\u001b[0m \u001b[0m_wrapfunc\u001b[0m\u001b[1;33m(\u001b[0m\u001b[0ma\u001b[0m\u001b[1;33m,\u001b[0m \u001b[1;34m'reshape'\u001b[0m\u001b[1;33m,\u001b[0m \u001b[0mnewshape\u001b[0m\u001b[1;33m,\u001b[0m \u001b[0morder\u001b[0m\u001b[1;33m=\u001b[0m\u001b[0morder\u001b[0m\u001b[1;33m)\u001b[0m\u001b[1;33m\u001b[0m\u001b[1;33m\u001b[0m\u001b[0m\n\u001b[0m\u001b[0;32m    302\u001b[0m \u001b[1;33m\u001b[0m\u001b[0m\n\u001b[0;32m    303\u001b[0m \u001b[1;33m\u001b[0m\u001b[0m\n",
      "\u001b[1;32mc:\\python38\\lib\\site-packages\\numpy\\core\\fromnumeric.py\u001b[0m in \u001b[0;36m_wrapfunc\u001b[1;34m(obj, method, *args, **kwds)\u001b[0m\n\u001b[0;32m     59\u001b[0m \u001b[1;33m\u001b[0m\u001b[0m\n\u001b[0;32m     60\u001b[0m     \u001b[1;32mtry\u001b[0m\u001b[1;33m:\u001b[0m\u001b[1;33m\u001b[0m\u001b[1;33m\u001b[0m\u001b[0m\n\u001b[1;32m---> 61\u001b[1;33m         \u001b[1;32mreturn\u001b[0m \u001b[0mbound\u001b[0m\u001b[1;33m(\u001b[0m\u001b[1;33m*\u001b[0m\u001b[0margs\u001b[0m\u001b[1;33m,\u001b[0m \u001b[1;33m**\u001b[0m\u001b[0mkwds\u001b[0m\u001b[1;33m)\u001b[0m\u001b[1;33m\u001b[0m\u001b[1;33m\u001b[0m\u001b[0m\n\u001b[0m\u001b[0;32m     62\u001b[0m     \u001b[1;32mexcept\u001b[0m \u001b[0mTypeError\u001b[0m\u001b[1;33m:\u001b[0m\u001b[1;33m\u001b[0m\u001b[1;33m\u001b[0m\u001b[0m\n\u001b[0;32m     63\u001b[0m         \u001b[1;31m# A TypeError occurs if the object does have such a method in its\u001b[0m\u001b[1;33m\u001b[0m\u001b[1;33m\u001b[0m\u001b[1;33m\u001b[0m\u001b[0m\n",
      "\u001b[1;31mValueError\u001b[0m: cannot reshape array of size 16000 into shape (2,400)"
     ]
    }
   ],
   "source": [
    "uks,U_final = Grape(H0,Hops,Hnames,U,total_time,steps,psi0,convergence=convergence, draw = [states_draw_list,states_draw_names],  \n",
    "                    state_transfer=state_transfer, use_gpu=False,sparse_H=False,\n",
    "                    show_plots =False,  \n",
    "       Taylor_terms = [20,0] , method = 'Adam',initial_guess = u0,maxA = ops_max_amp\n",
    "                    ,reg_coeffs = reg_coeffs,dressed_info=dressed_info,file_name = \"cat\"\n",
    "                    , data_path = data_path)"
   ]
  },
  {
   "cell_type": "code",
   "execution_count": null,
   "metadata": {
    "collapsed": true,
    "jupyter": {
     "outputs_hidden": true
    }
   },
   "outputs": [],
   "source": []
  }
 ],
 "metadata": {
  "kernelspec": {
   "display_name": "Python 3",
   "language": "python",
   "name": "python3"
  },
  "language_info": {
   "codemirror_mode": {
    "name": "ipython",
    "version": 3
   },
   "file_extension": ".py",
   "mimetype": "text/x-python",
   "name": "python",
   "nbconvert_exporter": "python",
   "pygments_lexer": "ipython3",
   "version": "3.8.3"
  }
 },
 "nbformat": 4,
 "nbformat_minor": 4
}
