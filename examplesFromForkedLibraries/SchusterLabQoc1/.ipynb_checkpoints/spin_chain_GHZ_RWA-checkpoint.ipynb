{
 "cells": [
  {
   "cell_type": "code",
   "execution_count": 2,
   "metadata": {
    "collapsed": false,
    "scrolled": false
   },
   "outputs": [
    {
     "name": "stdout",
     "output_type": "stream",
     "text": [
      "Populating the interactive namespace from numpy and matplotlib\n"
     ]
    }
   ],
   "source": [
    "%pylab inline\n",
    "import numpy as np\n",
    "import scipy.linalg as la\n",
    "import os,sys,inspect\n",
    "\n",
    "data_path = '../pulses/output_pulses/'\n",
    "\n",
    "from quantum_optimal_control.helper_functions.grape_functions import *\n",
    "from quantum_optimal_control.main_grape.grape import Grape"
   ]
  },
  {
   "cell_type": "code",
   "execution_count": 3,
   "metadata": {
    "collapsed": false
   },
   "outputs": [],
   "source": [
    "def run_GHZ(qubit_num):\n",
    "\n",
    "\n",
    "    #Defining time scales\n",
    "    total_time = qubit_num *2.0\n",
    "    steps = qubit_num * 10\n",
    "\n",
    "    # Choose optimizing State transfer or Unitary gate\n",
    "    state_transfer = True\n",
    "    \n",
    "    # Choose whether include intermediate state evolution as part of the graph optimization\n",
    "    use_inter_vecs = False\n",
    "    \n",
    "    #Defining H0\n",
    "    qubit_state_num = 2\n",
    "    freq_ge = 0#GHz\n",
    "    g = 2*np.pi*0.1 #GHz\n",
    "\n",
    "    Q_x   = np.diag(np.sqrt(np.arange(1,qubit_state_num)),1)+np.diag(np.sqrt(np.arange(1,qubit_state_num)),-1)\n",
    "    Q_y   = (0+1j) *(np.diag(np.sqrt(np.arange(1,qubit_state_num)),1)-np.diag(np.sqrt(np.arange(1,qubit_state_num)),-1))\n",
    "    sigma_z   = np.diag(np.arange(-1,qubit_state_num,2))\n",
    "    I_q = np.identity(qubit_state_num)\n",
    "    \n",
    "    g_op = nn_chain_kron(sigma_z, I_q, qubit_num, qubit_state_num)\n",
    "\n",
    "    H0 = g * g_op\n",
    "    \n",
    "\n",
    "    # Defining dressed info\n",
    "    is_dressed = False\n",
    "#     w_c, v_c, dressed_id = get_dressed_info(H0)\n",
    "#     dressed_info = {'dressed_id':dressed_id, 'eigenvectors':v_c, 'eigenvalues':w_c,'is_dressed':is_dressed}\n",
    "    \n",
    "    dressed_info = None\n",
    "\n",
    "\n",
    "    #Defining Concerned states (starting states)\n",
    "    g = np.zeros(qubit_state_num**qubit_num,dtype=complex)\n",
    "    g[0] = 1\n",
    "    \n",
    "    psi0=[g]\n",
    "\n",
    "    all_ones_index = 0\n",
    "    for ii in range (qubit_num):\n",
    "        all_ones_index = all_ones_index + qubit_state_num**ii\n",
    "        \n",
    "    #Defining states to include in the drawing of occupation\n",
    "    states_draw_list = [0,all_ones_index]\n",
    "    states_draw_names = ['00..0','11..1']\n",
    "\n",
    "    #Defining U (Target)\n",
    "\n",
    "    if is_dressed:\n",
    "\n",
    "        gg = get_state_index(0,dressed_id) #[00..0]\n",
    "        ee = get_state_index(all_ones_index,dressed_id) #[11..1]\n",
    "\n",
    "        target_vec = np.zeros(qubit_state_num**qubit_num,dtype=complex)\n",
    "        target_vec = target_vec +  (1)/np.sqrt(2)*v_c[:,gg] + (1)/np.sqrt(2)*v_c[:,ee]\n",
    "\n",
    "        U = [target_vec]\n",
    "\n",
    "    else:   \n",
    "        target_vec = np.zeros(qubit_state_num**qubit_num,dtype=complex)\n",
    "        target_vec[0]=(1)/np.sqrt(2)\n",
    "        target_vec[all_ones_index]=1/np.sqrt(2)\n",
    "\n",
    "        U = [target_vec]\n",
    "        \n",
    "    #Defining control Hs\n",
    "\n",
    "    Hops = []\n",
    "    Hnames = []\n",
    "    ops_max_amp = []\n",
    "    max_amp=2*np.pi*0.5\n",
    "    Hops,Hnames,ops_max_amp = append_separate_krons(Q_x,'x',qubit_num,qubit_state_num,Hops,Hnames,ops_max_amp,amp=max_amp)\n",
    "    Hops,Hnames,ops_max_amp = append_separate_krons(Q_y,'y',qubit_num,qubit_state_num,Hops,Hnames,ops_max_amp,amp=max_amp)\n",
    "    #Hops,Hnames,ops_max_amp = append_separate_krons(Q_y,'z',qubit_num,qubit_state_num,Hops,Hnames,ops_max_amp,amp=max_amp)\n",
    "    \n",
    "    print Hnames\n",
    "\n",
    "    #Defining convergence parameters\n",
    "    max_iterations = 100\n",
    "    decay = 1000 #max_iterations/2\n",
    "    convergence = {'rate':0.01, 'update_step':10 ,'max_iterations':max_iterations,\\\n",
    "                   'conv_target':1e-3,'learning_rate_decay':decay,'min_grad':1e-60}\n",
    "\n",
    "    reg_coeffs = {}\n",
    "    \n",
    "    #import h5py\n",
    "    #with h5py.File('/home/nelson/Simulations/GRAPE-Data/spin_chain_hadamard/00002_gpu_spin_chain_hadamard_N9.h5','r') as hf:\n",
    "    #    u0 = np.array(hf.get('uks'))[-1]\n",
    "    \n",
    "    u0=None\n",
    "    \n",
    "    \n",
    "\n",
    "    uks,U_final = Grape(H0,Hops,Hnames,U,total_time,steps,psi0,convergence=convergence, draw = [states_draw_list,states_draw_names],  \n",
    "\n",
    "                        show_plots = False, use_gpu = False,sparse_H=False,sparse_U=False,state_transfer = state_transfer, use_inter_vecs = use_inter_vecs,\n",
    "           unitary_error = 1e-8,  maxA=ops_max_amp,Taylor_terms =[20,0],initial_guess=u0,\n",
    "                       dressed_info = dressed_info, method = 'ADAM', reg_coeffs=reg_coeffs, file_name='dense_cpu_spin_chain_ghz_N%d' %(qubit_num), \n",
    "                        data_path = data_path)"
   ]
  },
  {
   "cell_type": "code",
   "execution_count": 4,
   "metadata": {
    "collapsed": false
   },
   "outputs": [
    {
     "name": "stdout",
     "output_type": "stream",
     "text": [
      "['xi', 'ix', 'yi', 'iy']\n",
      "data saved at: ../pulses/output_pulses/00000_dense_cpu_spin_chain_ghz_N2.h5\n",
      "Using 20 Taylor terms and 0 Scaling & Squaring terms\n",
      "Building graph:\n",
      "Propagators initialized.\n",
      "Operators weight initialized.\n",
      "Vectors initialized.\n",
      "Training loss initialized.\n",
      "Optimizer initialized.\n",
      "Utilities initialized.\n",
      "Graph built!\n",
      "Initialized\n",
      "Error = :6.33e-01; Runtime: 0.0s; Iterations = 0, grads =   1.502e+00, unitary_metric = 1.00000\n",
      "Error = :1.38e-02; Runtime: 0.1s; Iterations = 10, grads =   9.603e-02, unitary_metric = 1.00000\n",
      "Error = :3.69e-02; Runtime: 0.2s; Iterations = 20, grads =   1.502e-01, unitary_metric = 1.00000\n",
      "Error = :2.56e-03; Runtime: 0.3s; Iterations = 30, grads =   1.241e-02, unitary_metric = 1.00000\n",
      "Error = :3.37e-03; Runtime: 0.4s; Iterations = 40, grads =   1.337e-02, unitary_metric = 1.00000\n",
      "Error = :6.93e-04; Runtime: 0.4s; Iterations = 43, grads =   2.460e-03, unitary_metric = 1.00000\n",
      "data saved at: ../pulses/output_pulses/00000_dense_cpu_spin_chain_ghz_N2.h5\n"
     ]
    }
   ],
   "source": [
    "run_GHZ(qubit_num=2)"
   ]
  },
  {
   "cell_type": "code",
   "execution_count": null,
   "metadata": {
    "collapsed": true
   },
   "outputs": [],
   "source": []
  }
 ],
 "metadata": {
  "kernelspec": {
   "display_name": "Python 2",
   "language": "python",
   "name": "python2"
  },
  "language_info": {
   "codemirror_mode": {
    "name": "ipython",
    "version": 2
   },
   "file_extension": ".py",
   "mimetype": "text/x-python",
   "name": "python",
   "nbconvert_exporter": "python",
   "pygments_lexer": "ipython2",
   "version": "2.7.12"
  }
 },
 "nbformat": 4,
 "nbformat_minor": 0
}
