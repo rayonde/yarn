{
 "cells": [
  {
   "cell_type": "code",
   "execution_count": 1,
   "metadata": {
    "collapsed": false,
    "scrolled": false
   },
   "outputs": [
    {
     "name": "stdout",
     "output_type": "stream",
     "text": [
      "Populating the interactive namespace from numpy and matplotlib\n"
     ]
    },
    {
     "name": "stderr",
     "output_type": "stream",
     "text": [
      "/usr/local/lib/python2.7/dist-packages/matplotlib/font_manager.py:273: UserWarning: Matplotlib is building the font cache using fc-list. This may take a moment.\n",
      "  warnings.warn('Matplotlib is building the font cache using fc-list. This may take a moment.')\n"
     ]
    }
   ],
   "source": [
    "%pylab inline\n",
    "import numpy as np\n",
    "import scipy.linalg as la\n",
    "import os,sys,inspect\n",
    "\n",
    "data_path = '../pulses/output_pulses/'\n",
    "\n",
    "from quantum_optimal_control.helper_functions.grape_functions import *\n",
    "from quantum_optimal_control.main_grape.grape import Grape"
   ]
  },
  {
   "cell_type": "code",
   "execution_count": 2,
   "metadata": {
    "collapsed": false
   },
   "outputs": [],
   "source": [
    "def run_Hadamard(qubit_num):\n",
    "\n",
    "\n",
    "    #Defining time scales\n",
    "    total_time = qubit_num *2.0\n",
    "    steps = qubit_num * 10\n",
    "\n",
    "    # Choose optimizing State transfer or Unitary gate\n",
    "    state_transfer = False\n",
    "    \n",
    "    # Choose whether include intermediate state evolution as part of the graph optimization\n",
    "    use_inter_vecs = False\n",
    "    \n",
    "    #Defining H0\n",
    "    qubit_state_num = 2\n",
    "    freq_ge = 0#GHz\n",
    "    g = 2*np.pi*0.1 #GHz\n",
    "\n",
    "    Q_x   = np.diag(np.sqrt(np.arange(1,qubit_state_num)),1)+np.diag(np.sqrt(np.arange(1,qubit_state_num)),-1)\n",
    "    Q_y   = (0+1j) *(np.diag(np.sqrt(np.arange(1,qubit_state_num)),1)-np.diag(np.sqrt(np.arange(1,qubit_state_num)),-1))\n",
    "    sigma_z   = np.diag(np.arange(-1,qubit_state_num,2))\n",
    "    I_q = np.identity(qubit_state_num)\n",
    "    \n",
    "\n",
    "    g_op = nn_chain_kron(sigma_z, I_q, qubit_num, qubit_state_num)\n",
    "\n",
    "    H0 = g * g_op\n",
    "    \n",
    "\n",
    "    # Defining dressed info\n",
    "    is_dressed = False\n",
    "#     w_c, v_c, dressed_id = get_dressed_info(H0)\n",
    "#     dressed_info = {'dressed_id':dressed_id, 'eigenvectors':v_c, 'eigenvalues':w_c,'is_dressed':is_dressed}\n",
    "    \n",
    "    dressed_info = None\n",
    "\n",
    "\n",
    "    #Defining Concerned states (starting states)\n",
    "\n",
    "    psi0 = concerned(qubit_num,qubit_state_num)\n",
    "\n",
    "\n",
    "    #Defining states to include in the drawing of occupation\n",
    "    states_draw_list = range(qubit_state_num**qubit_num)\n",
    "    states_draw_names =[]\n",
    "    for ii in states_draw_list:\n",
    "        states_draw_names.append(Basis(ii,qubit_num,qubit_state_num))\n",
    "\n",
    "    #Defining U (Target)\n",
    "\n",
    "    if is_dressed:    \n",
    "        U = dressed_unitary(Hadamard(qubit_num),v_c,dressed_id)\n",
    "    else:   \n",
    "        U= Hadamard(qubit_num)\n",
    "\n",
    "    #print U    \n",
    "    \n",
    "    if state_transfer:\n",
    "        target_vec_list = []\n",
    "\n",
    "        for ii in psi0:\n",
    "            target_vec = np.dot(U,v_c[:,get_state_index(ii,dressed_id)])\n",
    "            target_vec_list.append(target_vec)\n",
    "\n",
    "        U = target_vec_list\n",
    "\n",
    "\n",
    "    #Defining U0 (Initial)\n",
    "    q_identity = np.identity(qubit_state_num**qubit_num)\n",
    "    U0= q_identity\n",
    "\n",
    "    #Defining control Hs\n",
    "\n",
    "    Hops = []\n",
    "    Hnames = []\n",
    "    ops_max_amp = []\n",
    "    max_amp=2*np.pi*0.5\n",
    "    Hops,Hnames,ops_max_amp = append_separate_krons(Q_x,'x',qubit_num,qubit_state_num,Hops,Hnames,ops_max_amp,amp=max_amp)\n",
    "    Hops,Hnames,ops_max_amp = append_separate_krons(Q_y,'y',qubit_num,qubit_state_num,Hops,Hnames,ops_max_amp,amp=max_amp)\n",
    "    #Hops,Hnames,ops_max_amp = append_separate_krons(Q_y,'z',qubit_num,qubit_state_num,Hops,Hnames,ops_max_amp,amp=max_amp)\n",
    "    \n",
    "    #print Hops[0]\n",
    "    print Hnames\n",
    "\n",
    "    #Defining convergence parameters\n",
    "    max_iterations = 1000\n",
    "    decay = 1000 #max_iterations/2\n",
    "    convergence = {'rate':0.01, 'update_step':10 ,'max_iterations':max_iterations,\\\n",
    "                   'conv_target':1e-3,'learning_rate_decay':decay,'min_grad':1e-60}\n",
    "\n",
    "    reg_coeffs = {}\n",
    "    \n",
    "    #import h5py\n",
    "    #with h5py.File('/home/nelson/Simulations/GRAPE-Data/spin_chain_hadamard/00002_gpu_spin_chain_hadamard_N9.h5','r') as hf:\n",
    "    #    u0 = np.array(hf.get('uks'))[-1]\n",
    "    \n",
    "    u0=None\n",
    "    \n",
    "    # set data path, the folder must be an existing directory\n",
    "\n",
    "    uks,U_final = Grape(H0,Hops,Hnames,U,total_time,steps,psi0,convergence=convergence, draw = [states_draw_list,states_draw_names],  \n",
    "\n",
    "                        show_plots = False, use_gpu = True,sparse_H=False,sparse_U=False,state_transfer = state_transfer, use_inter_vecs = use_inter_vecs,\n",
    "           unitary_error = 1e-8,  maxA=ops_max_amp,Taylor_terms =[20,0],initial_guess=u0,\n",
    "                       dressed_info = dressed_info, method = 'ADAM', reg_coeffs=reg_coeffs, file_name='dense_gpu_spin_chain_hadamard_N%d' %(qubit_num), \n",
    "                        data_path = data_path)"
   ]
  },
  {
   "cell_type": "code",
   "execution_count": 3,
   "metadata": {
    "collapsed": false
   },
   "outputs": [
    {
     "name": "stdout",
     "output_type": "stream",
     "text": [
      "['xi', 'ix', 'yi', 'iy']\n",
      "data saved at: ../pulses/output_pulses/00000_dense_gpu_spin_chain_hadamard_N2.h5\n",
      "Using 20 Taylor terms and 0 Scaling & Squaring terms\n",
      "Building graph:\n",
      "Propagators initialized.\n",
      "Operators weight initialized.\n",
      "Intermediate propagation variables initialized.\n",
      "Intermediate propagators initialized.\n",
      "Training loss initialized.\n",
      "Optimizer initialized.\n",
      "Utilities initialized.\n",
      "Graph built!\n",
      "Initialized\n",
      "Error = :9.56e-01; Runtime: 0.0s; Iterations = 0, grads =   1.027e-01, unitary_metric = 1.00000\n",
      "Error = :3.75e-01; Runtime: 0.1s; Iterations = 10, grads =   6.978e-01, unitary_metric = 1.00000\n",
      "Error = :1.17e-01; Runtime: 0.1s; Iterations = 20, grads =   3.339e-01, unitary_metric = 1.00000\n",
      "Error = :5.31e-02; Runtime: 0.2s; Iterations = 30, grads =   5.725e-02, unitary_metric = 1.00000\n",
      "Error = :2.54e-02; Runtime: 0.2s; Iterations = 40, grads =   2.353e-02, unitary_metric = 1.00000\n",
      "Error = :9.75e-03; Runtime: 0.2s; Iterations = 50, grads =   1.132e-02, unitary_metric = 1.00000\n",
      "Error = :3.93e-03; Runtime: 0.2s; Iterations = 60, grads =   6.533e-03, unitary_metric = 1.00000\n",
      "Error = :1.13e-03; Runtime: 0.3s; Iterations = 70, grads =   2.169e-03, unitary_metric = 1.00000\n",
      "Error = :9.38e-04; Runtime: 0.3s; Iterations = 71, grads =   1.609e-03, unitary_metric = 1.00000\n",
      "data saved at: ../pulses/output_pulses/00000_dense_gpu_spin_chain_hadamard_N2.h5\n"
     ]
    }
   ],
   "source": [
    "run_Hadamard(qubit_num=2)"
   ]
  },
  {
   "cell_type": "code",
   "execution_count": null,
   "metadata": {
    "collapsed": true
   },
   "outputs": [],
   "source": []
  }
 ],
 "metadata": {
  "kernelspec": {
   "display_name": "Python 2",
   "language": "python",
   "name": "python2"
  },
  "language_info": {
   "codemirror_mode": {
    "name": "ipython",
    "version": 2
   },
   "file_extension": ".py",
   "mimetype": "text/x-python",
   "name": "python",
   "nbconvert_exporter": "python",
   "pygments_lexer": "ipython2",
   "version": "2.7.12"
  }
 },
 "nbformat": 4,
 "nbformat_minor": 0
}
