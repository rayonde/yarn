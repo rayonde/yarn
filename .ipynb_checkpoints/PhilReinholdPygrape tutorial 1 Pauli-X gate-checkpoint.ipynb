{
 "cells": [
  {
   "cell_type": "markdown",
   "metadata": {},
   "source": [
    "# PhilReinholdPygrape tutorial 1: Pauli-X gate\n",
    "\n",
    "This notebook is based on the original examples written by Phil,\n",
    "they can be found in [this directory](https://github.com/tesla-cat/yarn/tree/master/examplesFromForkedLibraries/PhilReinholdPygrape).\n",
    "Specifically, it contains the following: \n",
    "\n",
    "- `pi_pulse.py`, `pi_pulse_bounded.py`, `pi_pulse_nonhermitian.py`\n",
    "- `pi_pulse_robust.py`, `pi_pulse_xy.py`\n",
    "\n",
    "Ruiqi, 27 Jun 2020"
   ]
  },
  {
   "cell_type": "code",
   "execution_count": 1,
   "metadata": {},
   "outputs": [],
   "source": [
    "import numpy as np\n",
    "import matplotlib.pyplot as plt\n",
    "from qutip import *\n",
    "from yarn.PhilReinholdPygrape import (\n",
    "    run_grape, UnitarySetup, LindbladSetup,\n",
    "    make_amp_cost, plot, \n",
    ")\n",
    "from yarn.qutipHelpers import (\n",
    "    plotWigners, plotExpectation, \n",
    ")"
   ]
  },
  {
   "cell_type": "markdown",
   "metadata": {},
   "source": [
    "## drift Hamiltonian"
   ]
  },
  {
   "cell_type": "code",
   "execution_count": 2,
   "metadata": {},
   "outputs": [
    {
     "name": "stdout",
     "output_type": "stream",
     "text": [
      "Quantum object: dims = [[2], [2]], shape = (2, 2), type = oper, isherm = True\n",
      "Qobj data =\n",
      "[[0. 0.]\n",
      " [0. 1.]]\n"
     ]
    }
   ],
   "source": [
    "sp = sigmap()\n",
    "Hdrift = sp.dag()*sp\n",
    "print(Hdrift)"
   ]
  },
  {
   "cell_type": "markdown",
   "metadata": {},
   "source": [
    "## control Hamiltonian"
   ]
  },
  {
   "cell_type": "code",
   "execution_count": 3,
   "metadata": {},
   "outputs": [],
   "source": [
    "HcontrolList = [sigmax(), sigmay()]"
   ]
  },
  {
   "cell_type": "markdown",
   "metadata": {},
   "source": [
    "## target evolution"
   ]
  },
  {
   "cell_type": "code",
   "execution_count": 4,
   "metadata": {},
   "outputs": [
    {
     "name": "stdout",
     "output_type": "stream",
     "text": [
      "Quantum object: dims = [[2], [2]], shape = (2, 2), type = oper, isherm = True\n",
      "Qobj data =\n",
      "[[0. 1.]\n",
      " [1. 0.]]\n"
     ]
    }
   ],
   "source": [
    "Utarget = sigmax()\n",
    "print(Utarget)"
   ]
  },
  {
   "cell_type": "markdown",
   "metadata": {},
   "source": [
    "## collapse operators ?\n",
    "\n",
    "I haven't figured out what `c_ops` stands for.\n",
    "It is used in the source code as:\n",
    "```\n",
    "for op in c_ops:\n",
    "    self.H0 += -0.5j*op.conj().T.dot(op)\n",
    "```"
   ]
  },
  {
   "cell_type": "code",
   "execution_count": 5,
   "metadata": {},
   "outputs": [
    {
     "name": "stdout",
     "output_type": "stream",
     "text": [
      "Quantum object: dims = [[2], [2]], shape = (2, 2), type = oper, isherm = False\n",
      "Qobj data =\n",
      "[[0.   0.01]\n",
      " [0.   0.  ]]\n"
     ]
    }
   ],
   "source": [
    "c_ops = 1e-2 * sigmap()\n",
    "print(c_ops)"
   ]
  },
  {
   "cell_type": "markdown",
   "metadata": {},
   "source": [
    "## gauge operators ?\n",
    "\n",
    "**TODO**: I don't know what this is"
   ]
  },
  {
   "cell_type": "markdown",
   "metadata": {},
   "source": [
    "## define the penalties\n",
    "\n",
    "The naming of Phil's code is not clear, to understand what each parameter does, check the source code using [Visual Studio Code](https://code.visualstudio.com/), right click the `function` (in this case `make_amp_cost`) and click **go to definition** "
   ]
  },
  {
   "cell_type": "code",
   "execution_count": 6,
   "metadata": {},
   "outputs": [],
   "source": [
    "penalties = [\n",
    "    make_amp_cost(\n",
    "        reg=1e-6, thresh=0.05, iq_pairs=True, # different from default\n",
    "        offset=0, widcs=None, # same as default\n",
    "    )\n",
    "]"
   ]
  },
  {
   "cell_type": "markdown",
   "metadata": {},
   "source": [
    "## setup\n",
    "\n",
    "### 1. define the grape setup"
   ]
  },
  {
   "cell_type": "code",
   "execution_count": 7,
   "metadata": {},
   "outputs": [
    {
     "name": "stdout",
     "output_type": "stream",
     "text": [
      "Non-Hermitian hamiltonian detected!\n"
     ]
    }
   ],
   "source": [
    "setup = UnitarySetup(Hdrift, HcontrolList, Utarget, c_ops=c_ops)"
   ]
  },
  {
   "cell_type": "markdown",
   "metadata": {},
   "source": [
    "### 2. add another setup\n",
    "\n",
    "we can use multiple setups at once, in this case, we will use another setup just like the above one to increase the **robustness** of the control"
   ]
  },
  {
   "cell_type": "code",
   "execution_count": 8,
   "metadata": {},
   "outputs": [
    {
     "name": "stdout",
     "output_type": "stream",
     "text": [
      "Non-Hermitian hamiltonian detected!\n"
     ]
    }
   ],
   "source": [
    "setup2 = UnitarySetup( 0.9999 * Hdrift, HcontrolList, Utarget, c_ops=c_ops)\n",
    "\n",
    "setupList = [setup, setup2]"
   ]
  },
  {
   "cell_type": "markdown",
   "metadata": {},
   "source": [
    "### 3. use Lindblad master equation setup instead\n",
    "\n",
    "**TODO**: the original example has bugs"
   ]
  },
  {
   "cell_type": "markdown",
   "metadata": {},
   "source": [
    "## define the initial control sequence"
   ]
  },
  {
   "cell_type": "code",
   "execution_count": 9,
   "metadata": {},
   "outputs": [],
   "source": [
    "initControls = 1e-3 * np.ones((len(HcontrolList), 200))"
   ]
  },
  {
   "cell_type": "markdown",
   "metadata": {},
   "source": [
    "## run grape"
   ]
  },
  {
   "cell_type": "code",
   "execution_count": 10,
   "metadata": {},
   "outputs": [
    {
     "name": "stdout",
     "output_type": "stream",
     "text": [
      "0 - Fids: 0.0001133053 0.0001136477 Penalties: 2.40648e-08\n",
      "1 - Fids: 0.0001133053 0.0001136477 Penalties: 2.40648e-08\n",
      "2 - Fids: 0.9987573 0.9987578 Penalties: 0.0001205095\n",
      "3 - Fids: 0.9989223 0.9989224 Penalties: 0.0001282858\n",
      "4 - Fids: 0.9990004 0.9990005 Penalties: 0.0001253586\n",
      "5 - Fids: 0.9990004 0.9990005 Penalties: 0.0001253468\n",
      "6 - Fids: 0.9990005 0.9990004 Penalties: 0.000125262\n",
      "7 - Fids: 0.9990006 0.9990003 Penalties: 0.000125096\n",
      "8 - Fids: 0.9990005 0.9989998 Penalties: 0.0001244789\n",
      "9 - Fids: 0.9990001 0.9989989 Penalties: 0.000122979\n",
      "10 - Fids: 0.998999 0.9989971 Penalties: 0.0001193504\n",
      "11 - Fids: 0.9989972 0.9989945 Penalties: 0.0001127716\n",
      "12 - Fids: 0.9989969 0.9989939 Penalties: 0.0001052189\n",
      "13 - Fids: 0.9989677 0.9989757 Penalties: 0.0001046796\n",
      "14 - Fids: 0.9990004 0.9989997 Penalties: 0.0001016867\n",
      "15 - Fids: 0.9989977 0.9989996 Penalties: 0.0001017457\n",
      "16 - Fids: 0.9990004 0.9990004 Penalties: 0.0001014721\n",
      "17 - Fids: 0.9990004 0.9990005 Penalties: 0.0001015754\n",
      "18 - Fids: 0.9990005 0.9990005 Penalties: 0.0001015094\n",
      "19 - Fids: 0.9990004 0.9990005 Penalties: 0.0001015005\n",
      "20 - Fids: 0.9990004 0.9990005 Penalties: 0.0001014756\n",
      "21 - Fids: 0.9990004 0.9990005 Penalties: 0.000101337\n",
      "22 - Fids: 0.9989994 0.9989992 Penalties: 0.000100824\n",
      "23 - Fids: 0.9990004 0.9990005 Penalties: 0.0001012266\n",
      "24 - Fids: 0.9990004 0.9990005 Penalties: 0.0001009751\n",
      "25 - Fids: 0.9990001 0.9990006 Penalties: 9.994105e-05\n",
      "26 - Fids: 0.999 0.9990006 Penalties: 9.764565e-05\n",
      "27 - Fids: 0.9990006 0.9990003 Penalties: 9.414701e-05\n",
      "28 - Fids: 0.9990006 0.999 Penalties: 9.292722e-05\n",
      "29 - Fids: 0.9990004 0.9990005 Penalties: 9.234554e-05\n",
      "30 - Fids: 0.9989999 0.9990001 Penalties: 9.214144e-05\n",
      "31 - Fids: 0.9990004 0.9990005 Penalties: 9.226005e-05\n",
      "32 - Fids: 0.9990004 0.9990006 Penalties: 9.22352e-05\n",
      "33 - Fids: 0.9990005 0.9990005 Penalties: 9.222437e-05\n",
      "34 - Fids: 0.9990005 0.9990005 Penalties: 9.222437e-05\n"
     ]
    }
   ],
   "source": [
    "import warnings; warnings.filterwarnings('ignore')\n",
    "\n",
    "result = run_grape(initControls, setupList, dt=.2, penalty_fns=penalties)"
   ]
  },
  {
   "cell_type": "markdown",
   "metadata": {},
   "source": [
    "## plot"
   ]
  },
  {
   "cell_type": "code",
   "execution_count": 11,
   "metadata": {},
   "outputs": [
    {
     "data": {
      "image/png": "[encoded data removed]",
      "text/plain": [
       "<Figure size 432x288 with 1 Axes>"
      ]
     },
     "metadata": {
      "needs_background": "light"
     },
     "output_type": "display_data"
    }
   ],
   "source": [
    "plot(result, ctrlNames=[r'$\\sigma_x$',r'$\\sigma_y$'])"
   ]
  },
  {
   "cell_type": "markdown",
   "metadata": {},
   "source": [
    "## evaluate the resulting pulse using `qutip`"
   ]
  },
  {
   "cell_type": "code",
   "execution_count": 12,
   "metadata": {},
   "outputs": [],
   "source": [
    "Ht = [list(a) for a in zip(HcontrolList, result.controls)]\n",
    "Ht.append(Hdrift)\n",
    "psi0 = fock(2,0)\n",
    "time = result.ts\n",
    "\n",
    "mesolveResult = mesolve(Ht,psi0,time,[],[])"
   ]
  },
  {
   "cell_type": "markdown",
   "metadata": {},
   "source": [
    "## plot `qutip.mesolve` results  "
   ]
  },
  {
   "cell_type": "code",
   "execution_count": 13,
   "metadata": {},
   "outputs": [
    {
     "data": {
      "image/png": "[encoded data removed]",
      "text/plain": [
       "<Figure size 432x288 with 1 Axes>"
      ]
     },
     "metadata": {
      "needs_background": "light"
     },
     "output_type": "display_data"
    },
    {
     "name": "stdout",
     "output_type": "stream",
     "text": [
      "\n",
      " initial state \n",
      " Quantum object: dims = [[2], [1]], shape = (2, 1), type = ket\n",
      "Qobj data =\n",
      "[[1.]\n",
      " [0.]]\n",
      "\n",
      " target state \n",
      " Quantum object: dims = [[2], [1]], shape = (2, 1), type = ket\n",
      "Qobj data =\n",
      "[[0.]\n",
      " [1.]]\n",
      "\n",
      " final state \n",
      " Quantum object: dims = [[2], [1]], shape = (2, 1), type = ket\n",
      "Qobj data =\n",
      "[[-0.00242605+2.00681188e-04j]\n",
      " [ 0.86761538+4.97229949e-01j]]\n"
     ]
    }
   ],
   "source": [
    "observables = [{'Hdrift':Hdrift}]\n",
    "plotExpectation(time,observables,mesolveResult)\n",
    "print('\\n initial state \\n', mesolveResult.states[0])\n",
    "print('\\n target state \\n', Utarget * mesolveResult.states[0])\n",
    "print('\\n final state \\n', mesolveResult.states[-1])"
   ]
  }
 ],
 "metadata": {
  "kernelspec": {
   "display_name": "Python 3",
   "language": "python",
   "name": "python3"
  },
  "language_info": {
   "codemirror_mode": {
    "name": "ipython",
    "version": 3
   },
   "file_extension": ".py",
   "mimetype": "text/x-python",
   "name": "python",
   "nbconvert_exporter": "python",
   "pygments_lexer": "ipython3",
   "version": "3.8.3"
  }
 },
 "nbformat": 4,
 "nbformat_minor": 4
}
