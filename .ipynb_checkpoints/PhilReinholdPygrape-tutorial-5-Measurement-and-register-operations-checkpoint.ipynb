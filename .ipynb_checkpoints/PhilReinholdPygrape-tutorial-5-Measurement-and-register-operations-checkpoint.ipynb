{
 "cells": [
  {
   "cell_type": "markdown",
   "metadata": {},
   "source": [
    "# PhilReinholdPygrape tutorial 5: Measurement and register operations\n",
    "\n",
    "This notebook is based on the original examples written by Phil,\n",
    "they can be found in [this directory](https://github.com/tesla-cat/yarn/tree/master/examplesFromForkedLibraries/PhilReinholdPygrape).\n",
    "Specifically, it contains the following: \n",
    "\n",
    "- `cavity_register.py`\n",
    "\n",
    "Ruiqi, 28 Jun 2020"
   ]
  },
  {
   "cell_type": "code",
   "execution_count": null,
   "metadata": {},
   "outputs": [],
   "source": [
    "import numpy as np\n",
    "from qutip import *\n",
    "from yarn.PhilReinholdPygrape import *\n",
    "from yarn.qutipHelpers import (\n",
    "    plotWignersIntermediateStates, \n",
    "    plotOccupationsIntermediateStates,\n",
    "    plotExpectation, cat\n",
    ")"
   ]
  },
  {
   "cell_type": "markdown",
   "metadata": {},
   "source": [
    "## parameters"
   ]
  },
  {
   "cell_type": "markdown",
   "metadata": {},
   "source": [
    "### 1. operation "
   ]
  },
  {
   "cell_type": "code",
   "execution_count": null,
   "metadata": {},
   "outputs": [],
   "source": [
    "operateOnQubitN = 1\n",
    "operationIsCoherent = True\n",
    "\n",
    "operationTypes = ['measurement','register']\n",
    "operationType = operationTypes[0]\n",
    "\n",
    "measurementShouldInvert = True\n",
    "measurementNames = ['projectionX','projectionY','projectionZ']\n",
    "measurementName = measurementNames[0]\n",
    "\n",
    "operationName = 'qft'"
   ]
  },
  {
   "cell_type": "markdown",
   "metadata": {},
   "source": [
    "### 2. system"
   ]
  },
  {
   "cell_type": "code",
   "execution_count": null,
   "metadata": {},
   "outputs": [],
   "source": [
    "dimC = 20\n",
    "dimQ = 2\n",
    "numQ = 3"
   ]
  },
  {
   "cell_type": "markdown",
   "metadata": {},
   "source": [
    "### 3. frequency (GHz)"
   ]
  },
  {
   "cell_type": "code",
   "execution_count": null,
   "metadata": {},
   "outputs": [],
   "source": [
    "driveC = driveQ = 1e-3\n",
    "chi = -2.95e-3\n",
    "chiPrime = 1e-6\n",
    "anharmonicityQ = -215e-3\n",
    "kerr = -5.4e-6"
   ]
  },
  {
   "cell_type": "markdown",
   "metadata": {},
   "source": [
    "### 4. time (ns)"
   ]
  },
  {
   "cell_type": "code",
   "execution_count": null,
   "metadata": {},
   "outputs": [],
   "source": [
    "relaxationC = 2e7\n",
    "relaxationQ = 70e3\n",
    "dephasingQ = 22e3"
   ]
  },
  {
   "cell_type": "markdown",
   "metadata": {},
   "source": [
    "### 5. optimization"
   ]
  },
  {
   "cell_type": "code",
   "execution_count": null,
   "metadata": {},
   "outputs": [],
   "source": [
    "useLoss = True\n",
    "maxIter = 120 * 2**numQ\n",
    "maxAmp = 16"
   ]
  },
  {
   "cell_type": "markdown",
   "metadata": {},
   "source": [
    "## operators"
   ]
  },
  {
   "cell_type": "markdown",
   "metadata": {},
   "source": [
    "### 1. projection operators for measurement"
   ]
  },
  {
   "cell_type": "code",
   "execution_count": null,
   "metadata": {},
   "outputs": [],
   "source": [
    "g, e = fock(2,0), fock(2,1)\n",
    "projectionZ = ket2dm( e )\n",
    "projectionX = ket2dm( (g +    e).unit() )\n",
    "projectionY = ket2dm( (g + 1j*e).unit() )"
   ]
  },
  {
   "cell_type": "markdown",
   "metadata": {},
   "source": [
    "### 2. operators for register"
   ]
  },
  {
   "cell_type": "code",
   "execution_count": null,
   "metadata": {},
   "outputs": [],
   "source": [
    "pauli = {'x':sigmax(), 'y':sigmay(), 'z':sigmaz()}\n",
    "def rotation(axis,angle):\n",
    "    return ( 1j*angle/2*pauli[axis] ).expm()\n",
    "\n",
    "pauliX = sigmax()\n",
    "pauliZ = sigmaz()\n",
    "rotationXpiOver2 = rotation('x',np.pi/2)\n",
    "rotationYpiOver2 = rotation('y',np.pi/2)\n"
   ]
  },
  {
   "cell_type": "markdown",
   "metadata": {},
   "source": [
    "### 3. QFT"
   ]
  },
  {
   "cell_type": "code",
   "execution_count": null,
   "metadata": {},
   "outputs": [],
   "source": [
    "n = 2**numQ\n",
    "xs = np.arange(n) / float(n)\n",
    "ops = [Qobj(np.array([1/np.sqrt(n)*np.exp(1j*2*np.pi*i*xs) \n",
    "        for i in range(n)]))]\n",
    "ops.reverse()\n",
    "op = tensor(ops).full()\n",
    "print(op)"
   ]
  },
  {
   "cell_type": "markdown",
   "metadata": {},
   "source": [
    "## define the grape setup"
   ]
  },
  {
   "cell_type": "code",
   "execution_count": null,
   "metadata": {},
   "outputs": [],
   "source": [
    "def makeSetup(dimC, dimQ):\n",
    "    Hdrift, HcontrolList = make_hmt(\n",
    "        dimC, dimQ,   chi, chiPrime, \n",
    "        kerr, anharmonicityQ,   driveQ, driveC\n",
    "    )\n",
    "\n",
    "    # Incoherent, don't need cavity drive\n",
    "    if not operationIsCoherent: \n",
    "        HcontrolList = HcontrolList[:2,:,:]\n",
    "\n",
    "    if operationType == 'measurement':\n",
    "        identities = projections = flips = [qeye(2) for _ in range(numQ+1)]\n",
    "        identity = tensor(identities)\n",
    "        # project\n",
    "        projections[operateOnQubitN-1] = eval(measurementName)\n",
    "        projections.reverse() # why?\n",
    "        project = tensor(projections)    \n",
    "        # flip\n",
    "        flips[-1] = sigmax()    \n",
    "        flips.reverse()\n",
    "        flip = tensor(flips)\n",
    "        # operation = flip * <project+> + identity * <project->\n",
    "        if not measurementShouldInvert:\n",
    "            operation = flip * project + (identity - project)\n",
    "        else:\n",
    "            operation = project + flip * (identity - project)\n",
    "        \n",
    "        inits = np.concatenate([\n",
    "            np.array([qutip.tensor(qutip.basis(nq, 0), qutip.basis(nc, i)).full()[:,0] for i in range(n)]),\n",
    "            np.array([qutip.tensor(qutip.basis(nq, 1), qutip.basis(nc, i)).full()[:,0] for i in range(n)]),\n",
    "        ])\n",
    "\n",
    "        U = np.identity(nc*nq, dtype=np.complex)\n",
    "        U[:n,:n] = final_op[:n,:n]\n",
    "        U[nc:nc+n,nc:nc+n] = final_op[n:,n:]\n",
    "        U[:n,nc:nc+n] = final_op[:n,n:]\n",
    "        U[nc:nc+n,:n] = final_op[n:,:n]\n",
    "        finals = []\n",
    "        for i in range(inits.shape[0]):\n",
    "            finals.append(np.dot(U,inits[i,:]))\n",
    "        finals = np.array(finals)\n",
    "\n",
    "    # Register operations\n",
    "    else:\n",
    "        ops = [qutip.identity(2) for _ in range(N_BITS)]\n",
    "        if opname == 'x':\n",
    "            ops[BIT_N-1] = qutip.sigmax()\n",
    "        elif opname == 'x2':\n",
    "            ops[BIT_N-1] = (1j*np.pi/4*qutip.sigmax()).expm()\n",
    "        elif opname == 'y2':\n",
    "            ops[BIT_N-1] = (1j*np.pi/4*qutip.sigmay()).expm()\n",
    "        elif opname == 'z':\n",
    "            ops[BIT_N-1] = qutip.sigmaz()\n",
    "        elif opname == 'qft':\n",
    "            xs = np.arange(n) / float(n)\n",
    "            ops = [qutip.Qobj(np.array(\n",
    "                [1/np.sqrt(n)*np.exp(1j*2*np.pi*i*xs) \n",
    "                 for i in range(n)]))]\n",
    "        ops.reverse()\n",
    "        op = qutip.tensor(ops).full()\n",
    "\n",
    "        inits = np.array([qutip.tensor(qutip.basis(nq, 0), qutip.basis(nc, i)).full()[:,0] for i in range(n)])\n",
    "        finals = np.zeros((n,nq*nc), dtype=np.complex)\n",
    "        finals[:n,:n] = op\n",
    "\n",
    "    a, ad, b, bd = make_ops(nc, nq)\n",
    "    if USE_LOSS:\n",
    "        loss_vec = np.ones(nc*nq) - ((a.dag()*a) * 0.5/T1cav + (b.dag()*b) * 0.5/T1q).diag()\n",
    "    else:\n",
    "        loss_vec = None\n",
    "\n",
    "    return StateTransferSetup(H0, Hcs, inits, finals, coherent=coherent, loss_vec=loss_vec)\n"
   ]
  },
  {
   "cell_type": "markdown",
   "metadata": {},
   "source": [
    "## original"
   ]
  }
 ],
 "metadata": {
  "kernelspec": {
   "display_name": "Python 3",
   "language": "python",
   "name": "python3"
  },
  "language_info": {
   "codemirror_mode": {
    "name": "ipython",
    "version": 3
   },
   "file_extension": ".py",
   "mimetype": "text/x-python",
   "name": "python",
   "nbconvert_exporter": "python",
   "pygments_lexer": "ipython3",
   "version": "3.8.3"
  }
 },
 "nbformat": 4,
 "nbformat_minor": 4
}
