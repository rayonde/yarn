{
 "cells": [
  {
   "cell_type": "code",
   "execution_count": 1,
   "metadata": {},
   "outputs": [],
   "source": [
    "import numpy as np\n",
    "from qutip import *\n",
    "from scipy.optimize import minimize\n",
    "from scipy.sparse.linalg import expm\n"
   ]
  },
  {
   "cell_type": "code",
   "execution_count": 2,
   "metadata": {},
   "outputs": [],
   "source": [
    "Hdrift = sigmaz().full()\n",
    "Hctrls = [sigmax().full(),sigmay().full()]\n",
    "init = fock(2,0).full()\n",
    "target = fock(2,1).full()\n",
    "dt = 1\n",
    "lengthOfControl = 20\n",
    "\n",
    "numberOfControls = len(Hctrls)\n",
    "initControlAmplitudes = np.random.rand(numberOfControls, lengthOfControl)\n",
    "\n",
    "def cost(controlAmplitudes):\n",
    "    \"\"\"Computes the cost function from the control signals.\n",
    "\n",
    "    Args:\n",
    "        controlAmplitudes (array): \n",
    "            An array with shape [numberOfControls, lengthOfControl].\n",
    "            It will be flattened by `scipy.optimize.minimize` to shape \n",
    "            (numberOfControls*lengthOfControl,) automatically.\n",
    "            \n",
    "    Returns:\n",
    "        The cost (float). For example:\n",
    "\n",
    "        0.01\n",
    "        \n",
    "    \"\"\"\n",
    "    U = qeye(2)\n",
    "    for index1 in range(lengthOfControl):\n",
    "        Ht = Hdrift \n",
    "        for index0 in range(numberOfControls):\n",
    "            index = index0 * lengthOfControl + index1\n",
    "            Ht += Hctrls[index0] * controlAmplitudes[index]\n",
    "        Ut = expm(-1j * Ht * dt)\n",
    "        U = np.matmul(Ut, U)\n",
    "    final = np.matmul(U, init)\n",
    "    cost = np.sum(np.abs(final - target))\n",
    "    return cost\n",
    "\n",
    "minimizeResult = minimize(cost, initControlAmplitudes, method='L-BFGS-B')"
   ]
  },
  {
   "cell_type": "code",
   "execution_count": 4,
   "metadata": {},
   "outputs": [
    {
     "data": {
      "image/png": "[encoded data removed]",
      "text/plain": [
       "<Figure size 432x288 with 1 Axes>"
      ]
     },
     "metadata": {
      "needs_background": "light"
     },
     "output_type": "display_data"
    }
   ],
   "source": [
    "import matplotlib.pyplot as plt\n",
    "\n",
    "x = minimizeResult.x\n",
    "\n",
    "for index0 in range(numberOfControls):\n",
    "    plt.plot(x)\n",
    "plt.show()\n"
   ]
  },
  {
   "cell_type": "code",
   "execution_count": null,
   "metadata": {},
   "outputs": [],
   "source": []
  }
 ],
 "metadata": {
  "kernelspec": {
   "display_name": "Python 3",
   "language": "python",
   "name": "python3"
  },
  "language_info": {
   "codemirror_mode": {
    "name": "ipython",
    "version": 3
   },
   "file_extension": ".py",
   "mimetype": "text/x-python",
   "name": "python",
   "nbconvert_exporter": "python",
   "pygments_lexer": "ipython3",
   "version": "3.8.3"
  }
 },
 "nbformat": 4,
 "nbformat_minor": 4
}
