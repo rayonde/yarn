{
 "cells": [
  {
   "cell_type": "markdown",
   "metadata": {},
   "source": [
    "# tinyGrape\n",
    "\n",
    "`tinyGrape` is minified based on `yarn.PhilReinholdPygrape`\n"
   ]
  },
  {
   "cell_type": "code",
   "execution_count": 1,
   "metadata": {},
   "outputs": [],
   "source": [
    "import numpy as np\n",
    "from math import factorial\n",
    "from scipy.linalg import eigh, norm, expm\n",
    "from scipy.optimize import minimize\n",
    "import matplotlib.pyplot as plt\n",
    "from functools import reduce\n",
    "from qutip import *"
   ]
  },
  {
   "cell_type": "markdown",
   "metadata": {},
   "source": [
    "## 1. Propagator and its derivatives\n",
    "\n",
    "### A. Hermitian\n",
    "\n",
    "- [Derivatives of the Matrix Exponential and Their Computation (I Najfeld, 1995)](https://www.sciencedirect.com/science/article/pii/S0196885885710172)\n",
    "\n",
    "- Equation 1: \n",
    "$$\n",
    "D_V(t,A) := \\lim\\limits_{h\\to 0} {1\\over h}[e^{t(A+hV)}-e^{tA}]\n",
    "$$\n",
    "\n",
    "where for obvious reason $V$ is called the **directional matrix**\n",
    "\n",
    "- **Theorem 4.8** (page 26): If $A=U\\Lambda U^{-1}$ is the spectral representation of a semi-simple matrix $A$, and $V$ is an arbitrary square matrix of the same size, and $\\bar{V}=U^{-1}VU$, then (Equations 7, 85):\n",
    " \n",
    "$$\n",
    "D_V(F(A)) = U(\\bar{V} \\odot L)U^{-1}\n",
    "$$\n",
    "\n",
    "where the **Loewner matrix** $L=\\begin{cases} \n",
    "{F(\\lambda_i) - F(\\lambda_j) \\over \\lambda_i - \\lambda_j} & \\text{if } \\lambda_i \\ne \\lambda_j \\textbf{ (case 1)}\\\\\n",
    "F'(\\lambda_i) & \\text{if } \\lambda_i = \\lambda_j \\textbf{ (case 2)}\n",
    "\\end{cases}$\n",
    "is a symmetric divided difference matrix.\n",
    "\n",
    "- For unitary matirx $U$, by definition $U^{-1} = U^{\\dagger}$"
   ]
  },
  {
   "cell_type": "code",
   "execution_count": 2,
   "metadata": {},
   "outputs": [],
   "source": [
    "def propagatorAndDerivativesHermitian(\n",
    "    Hdrift, Hcontrols, \n",
    "    propagatorOnly = False\n",
    "):\n",
    "    \"\"\"Calculates the propagator and directional derivatives of the Hamiltonian. \n",
    "    \n",
    "    - [Derivatives of the Matrix Exponential and Their Computation (I Najfeld, 1995)](https://www.sciencedirect.com/science/article/pii/S0196885885710172)\n",
    "\n",
    "    - Equation 1: \n",
    "    $$\n",
    "    D_V(t,A) := \\lim\\limits_{h\\to 0} {1\\over h}[e^{t(A+hV)}-e^{tA}]\n",
    "    $$\n",
    "\n",
    "    where for obvious reason $V$ is called the **directional matrix**\n",
    "\n",
    "    - **Theorem 4.8** (page 26): If $A=U\\Lambda U^{-1}$ is the spectral representation of a semi-simple matrix $A$, and $V$ is an arbitrary square matrix of the same size, and $\\bar{V}=U^{-1}VU$, then (Equations 7, 85):\n",
    "\n",
    "    $$\n",
    "    D_V(F(A)) = U(\\bar{V} \\odot L)U^{-1}\n",
    "    $$\n",
    "\n",
    "    where the **Loewner matrix** $L=\\begin{cases} \n",
    "    {F(\\lambda_i) - F(\\lambda_j) \\over \\lambda_i - \\lambda_j} & \\text{if } \\lambda_i \\ne \\lambda_j \\textbf{ (case 1)}\\\\\n",
    "    F'(\\lambda_i) & \\text{if } \\lambda_i = \\lambda_j \\textbf{ (case 2)}\n",
    "    \\end{cases}$\n",
    "    is a symmetric divided difference matrix.\n",
    "\n",
    "    - For unitary matirx $U$, by definition $U^{-1} = U^{\\dagger}$\n",
    "    \n",
    "    Args:\n",
    "        Hdrift (array [dim, dim]): The drift Hamiltonian.\n",
    "        Hcontrols (list of array [dim, dim]): The control Hamiltonians.\n",
    "        propagatorOnly (bool): If `True`, returns the `propagator` only, \n",
    "            if `False`, returns the tuple `(propagator, derivatives)`.\n",
    "        \n",
    "    Returns:\n",
    "        propagator or (propagator, derivatives): \n",
    "            - propagator (array [dim, dim])\n",
    "            - derivatives (array [len(Hcontrols), dim, dim]) \n",
    "    \n",
    "    Uses:\n",
    "        None\n",
    "        \n",
    "    \"\"\"\n",
    "    lambdas, eigenVectors = eigh(Hdrift)\n",
    "    lambdas = -1j * lambdas \n",
    "    U = eigenVectors\n",
    "    UexpLambdas = U * np.exp(lambdas)\n",
    "    Udagger = U.conj().T\n",
    "    propagator = UexpLambdas.dot(Udagger)\n",
    "    if propagatorOnly: return propagator\n",
    "    \n",
    "    deltaLambda = lambdas - lambdas.reshape((-1,1))\n",
    "    L = np.zeros_like(deltaLambda)\n",
    "    case1 = abs(deltaLambda) > 1e-8 # boolean mask\n",
    "    L[ case1] = (np.exp(deltaLambda[case1])-1)/deltaLambda[case1]\n",
    "    L[~case1] = 1 + deltaLambda[~case1] / 2\n",
    "    \n",
    "    derivatives = []\n",
    "    for V in Hcontrols:\n",
    "        Vbar = Udagger.dot( V.dot(U) )\n",
    "        D = -1j * UexpLambdas.dot( (Vbar*L).dot(Udagger) )\n",
    "        derivatives.append(D)\n",
    "    return propagator, np.array(derivatives)\n",
    "    "
   ]
  },
  {
   "cell_type": "markdown",
   "metadata": {},
   "source": [
    "### B. Non-Hermitian\n",
    "\n",
    "- Scaling and squaring Taylor algorithm\n",
    "$$\n",
    "p = 2^s \\\\\n",
    "e^A = (e^{A/p})^p \n",
    "$$"
   ]
  },
  {
   "cell_type": "code",
   "execution_count": 3,
   "metadata": {},
   "outputs": [],
   "source": [
    "def propagatorAndDerivativesNonHermitian(\n",
    "    Hdrift, Hcontrols, \n",
    "    propagatorOnly = False, accuracy = 10, \n",
    "    numTermsForDerivatives = 3\n",
    "):\n",
    "    \"\"\"Calculates the propagator and directional derivatives of the Hamiltonian. \n",
    "    \n",
    "    - Scaling and squaring Taylor algorithm\n",
    "    $$\n",
    "    p = 2^s \\\\\n",
    "    e^A = (e^{A/p})^p \n",
    "    $$\n",
    "    \n",
    "    Args:\n",
    "        Hdrift (array [dim, dim]): The drift Hamiltonian.\n",
    "        Hcontrols (list of array [dim, dim]): The control Hamiltonians.\n",
    "        propagatorOnly (bool): If `True`, returns the `propagator` only, \n",
    "            if `False`, returns the tuple `(propagator, derivatives)`.\n",
    "        accuracy (int): Used to find the parameter `s`. \n",
    "            Larger the accuracy, larger the `s`.\n",
    "        numTermsForDerivatives (int): \n",
    "            The number of terms for derivatives\n",
    "\n",
    "    Returns:\n",
    "        propagator or (propagator, derivatives): \n",
    "            - propagator (array [dim, dim])\n",
    "            - derivatives (array [len(Hcontrols), dim, dim]) \n",
    "    \n",
    "    Uses:\n",
    "        None\n",
    "        \n",
    "    \"\"\"\n",
    "    s = max(int(np.ceil(np.log2(norm(Hdrift)*accuracy))), 0) \n",
    "    p = 2**s\n",
    "    AoverP = -1j*Hdrift / p  # X\n",
    "    halfAoverP = AoverP / 2  # X2\n",
    "    expHalfAoverP = expm(halfAoverP) # eX2\n",
    "    def square(A): return A.dot(A)\n",
    "    propagator = square(expHalfAoverP) # eX\n",
    "    if propagatorOnly: \n",
    "        for i in range(s): \n",
    "            propagator = square(propagator)\n",
    "        return propagator\n",
    "    \n",
    "    def coef(k): return 1.0 / factorial(2*k + 1)\n",
    "    def commutator(A,B): return A.dot(B) - B.dot(A)\n",
    "    def anticommutator(A,B): return A.dot(B) + B.dot(A)\n",
    "    derivatives = [] \n",
    "    for B in Hcontrols:\n",
    "        BoverP = -1j*B / p  # Y\n",
    "        term = coef(numTermsForDerivatives) * BoverP # G\n",
    "        for k in reversed(range(numTermsForDerivatives)): \n",
    "            C = commutator(commutator(term, halfAoverP), halfAoverP)\n",
    "            term = coef(k) * BoverP + C\n",
    "        derivatives.append(expHalfAoverP.dot(term).dot(expHalfAoverP))\n",
    "    \n",
    "    for i in range(s): \n",
    "        derivatives = [anticommutator(propagator, d) for d in derivatives]\n",
    "        propagator = square(propagator)\n",
    "    return propagator, derivatives\n",
    "    "
   ]
  },
  {
   "cell_type": "markdown",
   "metadata": {},
   "source": [
    "## 2. Total propagator and derivatives"
   ]
  },
  {
   "cell_type": "code",
   "execution_count": 4,
   "metadata": {},
   "outputs": [],
   "source": [
    "def totalPropagatorAndDerivatives(\n",
    "    Hdrift, Hcontrols, controlWaves, \n",
    "):\n",
    "    \"\"\"Calculates the total propagator and directional derivatives of the Hamiltonian.\n",
    "    \n",
    "    Please refer to `propagatorAndDerivatives`.\n",
    "    \n",
    "    Args: \n",
    "        Hdrift (array [dim, dim]): The drift Hamiltonian.\n",
    "        Hcontrols (list of array [dim, dim]): The control Hamiltonians.\n",
    "        controlWaves (array [ctrlNum, ctrlLen]): The control waveforms.\n",
    "            - ctrlNum (int): Number of controls, equal to `len(Hcontrols)`.\n",
    "            - ctrlLen (int): Length of each control wave, equal to the number of time steps.\n",
    "    \n",
    "    Returns:\n",
    "        (totalPropagator, totalDerivatives):\n",
    "            - totalPropagator (array [dim, dim])\n",
    "            - totalDerivatives (array [ctrlNum, ctrlLen, dim, dim]) \n",
    "    \n",
    "    Uses:\n",
    "        propagatorAndDerivatives\n",
    "            \n",
    "    \"\"\"\n",
    "    ctrlNum, ctrlLen = controlWaves.shape\n",
    "    dim = Hdrift.shape[0]; dtype = Hdrift.dtype\n",
    "    propagators = np.empty((ctrlLen, dim, dim), dtype)\n",
    "    derivatives = np.empty((ctrlNum, ctrlLen, dim, dim), dtype)\n",
    "    def checkHermitian(H): return np.allclose(H, H.conj().T)\n",
    "    for t,amps in enumerate(controlWaves.T):\n",
    "        Ht = Hdrift + sum(a*Hc for a,Hc in zip(amps,Hcontrols))        \n",
    "        if checkHermitian(Ht): \n",
    "            propagators[t], derivatives[:,t,:,:] = \\\n",
    "                propagatorAndDerivativesHermitian(Ht, Hcontrols)\n",
    "        else: \n",
    "            propagators[t], derivatives[:,t,:,:] = \\\n",
    "                propagatorAndDerivativesNonHermitian(Ht, Hcontrols)\n",
    "    ahead = [np.identity(dim)]; behind = [np.identity(dim)]\n",
    "    for Pt in propagators[:-1]:\n",
    "        ahead.append(Pt.dot(ahead[-1]))\n",
    "    for Pt in reversed(propagators[1:]):\n",
    "        behind.append(behind[-1].dot(Pt))\n",
    "    behind.reverse()\n",
    "    \n",
    "    totalPropagator = propagators[-1].dot(ahead[-1])\n",
    "    def dotAll(matrices): return reduce(np.dot, matrices)\n",
    "    totalDerivatives = [\n",
    "        list(map(dotAll, list(zip(behind,derivatives[n],ahead)))) \n",
    "        for n in range(ctrlNum)\n",
    "    ]\n",
    "    return totalPropagator, np.array(totalDerivatives)\n",
    "    "
   ]
  },
  {
   "cell_type": "markdown",
   "metadata": {},
   "source": [
    "## 3. Fidelity and derivatives"
   ]
  },
  {
   "cell_type": "code",
   "execution_count": 5,
   "metadata": {},
   "outputs": [],
   "source": [
    "def fidelityForPropagatorAndDerivatives(\n",
    "    totalPropagator, totalDerivatives, Utarget,  \n",
    "):\n",
    "    \"\"\"Calculates the fidelity for propagator and derivatives.\n",
    "    \n",
    "    Args: \n",
    "        totalPropagator (array [dim, dim]): The total propagator.\n",
    "        totalDerivatives (array [ctrlNum, ctrlLen, dim, dim]): The total derivatives.\n",
    "        Utarget (array [dim, dim]): The target propagator.\n",
    "    \n",
    "    Returns:\n",
    "        fidelityPropagator (float): The fidelity for `totalPropagator`.\n",
    "        fidelityDerivatives (array [ctrlNum, ctrlLen]): The fidelity derivatives.\n",
    "    \n",
    "    Uses:\n",
    "        None\n",
    "            \n",
    "    \"\"\"\n",
    "    normUtarget = np.sum(abs(Utarget)**2)\n",
    "    overlapPropagator = np.sum(Utarget.conj() * totalPropagator) / normUtarget\n",
    "    overlapDerivatives = np.sum(Utarget.conj() * totalDerivatives, axis=(2,3)) / normUtarget\n",
    "    fidelityPropagator = abs(overlapPropagator)\n",
    "    fidelityDerivatives = (\n",
    "        overlapPropagator.real * overlapDerivatives.real +\n",
    "        overlapPropagator.imag * overlapDerivatives.imag\n",
    "    ) / fidelityPropagator\n",
    "    return fidelityPropagator, fidelityDerivatives"
   ]
  },
  {
   "cell_type": "markdown",
   "metadata": {},
   "source": [
    "## 4. Optimization"
   ]
  },
  {
   "cell_type": "code",
   "execution_count": 6,
   "metadata": {},
   "outputs": [],
   "source": [
    "def optimizeMultipleSystems(\n",
    "    systems, controlWaves, waveEnvelope \n",
    "):\n",
    "    \"\"\"Optimizes controlWaves.\n",
    "    \n",
    "    Combines the `fidelityPropagator, fidelityDerivatives` generated by multiple \n",
    "    systems using `fidelityForPropagatorAndDerivatives`. \n",
    "    \n",
    "    Args: \n",
    "        systems (list of tuples): Each system is a tuple `(Hdrift,Hcontrols,Utarget)`\n",
    "            - Hdrift (array [dim, dim]): The drift Hamiltonian.\n",
    "            - Hcontrols (list of array [dim, dim]): The control Hamiltonians.\n",
    "            - Utarget (array [dim, dim]): The target propagator.\n",
    "        controlWaves (array [ctrlNum, ctrlLen]): The control waveforms.\n",
    "            - ctrlNum (int): Number of controls, equal to `len(Hcontrols)`.\n",
    "            - ctrlLen (int): Length of each control wave, equal to the number of time steps.\n",
    "        waveEnvelope (array [ctrlLen,]): The envelope for control waves.\n",
    "        \n",
    "    Returns:\n",
    "        optimizedControlWaves (array [ctrlNum, ctrlLen]): The optimized control waveforms.\n",
    "        \n",
    "    Uses:\n",
    "        totalPropagatorAndDerivatives\n",
    "        fidelityForPropagatorAndDerivatives\n",
    "        scipy.optimize.minimize\n",
    "            \n",
    "    \"\"\"\n",
    "    ctrlNum, ctrlLen = controlWaves.shape\n",
    "    def cost(controlWaves):\n",
    "        controlWaves = controlWaves.reshape((ctrlNum, ctrlLen)) \\\n",
    "            * waveEnvelope\n",
    "        fidelityPropagatorList = []; fidelityDerivativesList = []\n",
    "        for Hdrift,Hcontrols,Utarget in systems:\n",
    "            totalPropagator, totalDerivatives = totalPropagatorAndDerivatives(\n",
    "                Hdrift, Hcontrols, controlWaves\n",
    "            )\n",
    "            fidelityPropagator, fidelityDerivatives = fidelityForPropagatorAndDerivatives(\n",
    "                totalPropagator, totalDerivatives, Utarget,  \n",
    "            )\n",
    "            if isinstance(fidelityPropagator,(list,tuple,np.ndarray)):\n",
    "                fidelityPropagatorList.extend(fidelityPropagator)\n",
    "            else:\n",
    "                fidelityPropagatorList.append(fidelityPropagator)\n",
    "                fidelityDerivatives = [fidelityDerivatives]\n",
    "            for fidelityDerivative in fidelityDerivatives:\n",
    "                fidelityDerivativesList.append( fidelityDerivative*waveEnvelope )\n",
    "        \n",
    "        meanFidelityPropagator = np.mean(fidelityPropagatorList)\n",
    "        costPropagator = 1 - meanFidelityPropagator\n",
    "        costDerivatives = -np.mean(fidelityDerivativesList,axis=0)\n",
    "        return costPropagator, costDerivatives.flatten()\n",
    "    return minimize(cost, controlWaves, jac=True, method='L-BFGS-B').x.reshape((ctrlNum, ctrlLen))\n"
   ]
  },
  {
   "cell_type": "markdown",
   "metadata": {},
   "source": [
    "## 5. Usage"
   ]
  },
  {
   "cell_type": "markdown",
   "metadata": {},
   "source": [
    "### A. Define the `systems` to optimize"
   ]
  },
  {
   "cell_type": "code",
   "execution_count": 7,
   "metadata": {},
   "outputs": [],
   "source": [
    "sp = sigmap()\n",
    "Hdrift = sp.dag()*sp\n",
    "Hcontrols = [sigmax(), sigmay()]\n",
    "Utarget = sigmax()"
   ]
  },
  {
   "cell_type": "markdown",
   "metadata": {},
   "source": [
    "### B. Define the `controlWaves` and `waveEnvelope`"
   ]
  },
  {
   "cell_type": "code",
   "execution_count": 8,
   "metadata": {},
   "outputs": [],
   "source": [
    "time = np.linspace(0,40,200) \n",
    "sigma = 10\n",
    "waveEnvelope = 1-np.exp(-time/sigma)-np.exp(-(time[-1]-time)/sigma)\n",
    "controlWaves = 1e-3 * np.ones((len(Hcontrols),len(time)))"
   ]
  },
  {
   "cell_type": "markdown",
   "metadata": {},
   "source": [
    "### C. Convert from `qutip` to `Numpy`"
   ]
  },
  {
   "cell_type": "code",
   "execution_count": 9,
   "metadata": {},
   "outputs": [],
   "source": [
    "def qutipToNumpy(x): return np.squeeze(x.full())\n",
    "dt = time[1] - time[0]\n",
    "Hdrift = dt * qutipToNumpy(Hdrift)\n",
    "Hcontrols = [dt * qutipToNumpy(x) for x in Hcontrols]\n",
    "Utarget = qutipToNumpy(Utarget)\n",
    "systems = [(Hdrift,Hcontrols,Utarget)]"
   ]
  },
  {
   "cell_type": "markdown",
   "metadata": {},
   "source": [
    "### D. Run `optimizeMultipleSystems`"
   ]
  },
  {
   "cell_type": "code",
   "execution_count": 10,
   "metadata": {},
   "outputs": [
    {
     "data": {
      "image/png": "[encoded data removed]",
      "text/plain": [
       "<Figure size 432x288 with 1 Axes>"
      ]
     },
     "metadata": {
      "needs_background": "light"
     },
     "output_type": "display_data"
    }
   ],
   "source": [
    "optimizedControlWaves = optimizeMultipleSystems(systems, controlWaves, waveEnvelope)\n",
    "for n in range(optimizedControlWaves.shape[0]):\n",
    "    plt.plot(optimizedControlWaves[n])\n",
    "plt.show()"
   ]
  }
 ],
 "metadata": {
  "kernelspec": {
   "display_name": "Python 3",
   "language": "python",
   "name": "python3"
  },
  "language_info": {
   "codemirror_mode": {
    "name": "ipython",
    "version": 3
   },
   "file_extension": ".py",
   "mimetype": "text/x-python",
   "name": "python",
   "nbconvert_exporter": "python",
   "pygments_lexer": "ipython3",
   "version": "3.8.3"
  }
 },
 "nbformat": 4,
 "nbformat_minor": 4
}
